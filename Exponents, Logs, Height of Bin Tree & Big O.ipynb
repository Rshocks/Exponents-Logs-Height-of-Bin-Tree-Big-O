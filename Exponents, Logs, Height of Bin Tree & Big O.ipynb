{
 "cells": [
  {
   "cell_type": "markdown",
   "id": "70073c60",
   "metadata": {},
   "source": [
    "# $\\log_b n$\n",
    "\n",
    "***"
   ]
  },
  {
   "cell_type": "markdown",
   "id": "692f752c",
   "metadata": {},
   "source": [
    "$ 2^4 = 2 \\times 2 \\times 2 \\times 2 = 16$\n",
    "\n",
    "$2^{-4} = \\frac{1}{2^4}$\n",
    "\n",
    "$2^4 \\times 2^{-4} = 2^{4 + (-4)} = 2^{0} = 1 $\n",
    "\n",
    "$ 2^{0.5} = \\sqrt{2}$\n"
   ]
  },
  {
   "cell_type": "code",
   "execution_count": 4,
   "id": "46ae89bf",
   "metadata": {},
   "outputs": [
    {
     "data": {
      "text/plain": [
       "16"
      ]
     },
     "execution_count": 4,
     "metadata": {},
     "output_type": "execute_result"
    }
   ],
   "source": [
    "2 ** 4"
   ]
  },
  {
   "cell_type": "code",
   "execution_count": 5,
   "id": "60892269",
   "metadata": {},
   "outputs": [
    {
     "data": {
      "text/plain": [
       "0.0625"
      ]
     },
     "execution_count": 5,
     "metadata": {},
     "output_type": "execute_result"
    }
   ],
   "source": [
    "2 **(-4)"
   ]
  },
  {
   "cell_type": "code",
   "execution_count": 6,
   "id": "8f21b5c5",
   "metadata": {},
   "outputs": [
    {
     "data": {
      "text/plain": [
       "1.4142135623730951"
      ]
     },
     "execution_count": 6,
     "metadata": {},
     "output_type": "execute_result"
    }
   ],
   "source": [
    "2 ** (0.5)"
   ]
  },
  {
   "cell_type": "markdown",
   "id": "d815a8cf",
   "metadata": {},
   "source": [
    "<br>\n",
    "\n",
    "$ b^a = n \\Leftrightarrow \\log_b n = a$\n",
    "\n",
    "$ 2^4 = 16 \\Leftrightarrow \\log_2 16 = 4$"
   ]
  },
  {
   "cell_type": "code",
   "execution_count": 7,
   "id": "4e0825f1",
   "metadata": {},
   "outputs": [],
   "source": [
    "import math"
   ]
  },
  {
   "cell_type": "code",
   "execution_count": 8,
   "id": "dc28eb17",
   "metadata": {},
   "outputs": [
    {
     "data": {
      "text/plain": [
       "4.0"
      ]
     },
     "execution_count": 8,
     "metadata": {},
     "output_type": "execute_result"
    }
   ],
   "source": [
    "math.log(16, 2)"
   ]
  },
  {
   "cell_type": "markdown",
   "id": "54a59641",
   "metadata": {},
   "source": [
    "# Height of Binary Tree\n",
    "\n",
    "***"
   ]
  },
  {
   "cell_type": "code",
   "execution_count": 8,
   "id": "97a94844",
   "metadata": {},
   "outputs": [
    {
     "name": "stdout",
     "output_type": "stream",
     "text": [
      "[0, 1, 2, 3, 4, 5, 6, 7, 8, 9, 10, 11, 12, 13, 14, 15, 16, 17, 18, 19, 20, 21, 22, 23, 24, 25, 26, 27, 28, 29, 30]\n"
     ]
    }
   ],
   "source": [
    "# Length of the List\n",
    "n = 31\n",
    "#Create a list of length n\n",
    "L = list(range(n))\n",
    "#show list\n",
    "print(L)\n",
    "#Draw the tree from L"
   ]
  },
  {
   "cell_type": "code",
   "execution_count": 16,
   "id": "a51866ae",
   "metadata": {},
   "outputs": [
    {
     "data": {
      "text/plain": [
       "31"
      ]
     },
     "execution_count": 16,
     "metadata": {},
     "output_type": "execute_result"
    }
   ],
   "source": [
    "2**0 + 2**1 + 2**2 + 2**3 + 2**4"
   ]
  },
  {
   "cell_type": "code",
   "execution_count": 11,
   "id": "66e06b23",
   "metadata": {},
   "outputs": [],
   "source": [
    "def max_list_length(height):\n",
    "    total_nodes = 0\n",
    "    for i in range(height + 1):\n",
    "        total_nodes = total_nodes + 2**i\n",
    "    return total_nodes"
   ]
  },
  {
   "cell_type": "code",
   "execution_count": 14,
   "id": "19677fc0",
   "metadata": {},
   "outputs": [
    {
     "data": {
      "text/plain": [
       "31"
      ]
     },
     "execution_count": 14,
     "metadata": {},
     "output_type": "execute_result"
    }
   ],
   "source": [
    "max_list_length(4)"
   ]
  },
  {
   "cell_type": "code",
   "execution_count": 15,
   "id": "c858c898",
   "metadata": {},
   "outputs": [
    {
     "data": {
      "text/plain": [
       "2047"
      ]
     },
     "execution_count": 15,
     "metadata": {},
     "output_type": "execute_result"
    }
   ],
   "source": [
    "max_list_length(10)"
   ]
  },
  {
   "cell_type": "markdown",
   "id": "70ea7abd",
   "metadata": {},
   "source": [
    "$ 2^{h+1} - 1 = \\sum_{i=0}^h 2^i $"
   ]
  },
  {
   "cell_type": "code",
   "execution_count": 18,
   "id": "335da54b",
   "metadata": {},
   "outputs": [
    {
     "data": {
      "text/plain": [
       "32"
      ]
     },
     "execution_count": 18,
     "metadata": {},
     "output_type": "execute_result"
    }
   ],
   "source": [
    "2**5"
   ]
  },
  {
   "cell_type": "code",
   "execution_count": 19,
   "id": "84584c9a",
   "metadata": {},
   "outputs": [
    {
     "data": {
      "text/plain": [
       "2048"
      ]
     },
     "execution_count": 19,
     "metadata": {},
     "output_type": "execute_result"
    }
   ],
   "source": [
    "2**11"
   ]
  },
  {
   "cell_type": "code",
   "execution_count": 32,
   "id": "5e1c7406",
   "metadata": {},
   "outputs": [
    {
     "data": {
      "text/plain": [
       "255"
      ]
     },
     "execution_count": 32,
     "metadata": {},
     "output_type": "execute_result"
    }
   ],
   "source": [
    "0b011111111"
   ]
  },
  {
   "cell_type": "code",
   "execution_count": 24,
   "id": "2836d489",
   "metadata": {},
   "outputs": [
    {
     "data": {
      "text/plain": [
       "255"
      ]
     },
     "execution_count": 24,
     "metadata": {},
     "output_type": "execute_result"
    }
   ],
   "source": [
    "(1 * 2**7) + (1 * 2**6) + (1 * 2**5)+ (1 * 2**4)+ (1 * 2**3)+ (1 * 2**2)+ (1 * 2**1)+ (1 * 2**0)"
   ]
  },
  {
   "cell_type": "code",
   "execution_count": 27,
   "id": "1c1b5d6e",
   "metadata": {},
   "outputs": [],
   "source": [
    "def max_list_length(height):\n",
    "    return 2**(height+1) -1"
   ]
  },
  {
   "cell_type": "code",
   "execution_count": 28,
   "id": "4f75b602",
   "metadata": {},
   "outputs": [
    {
     "data": {
      "text/plain": [
       "31"
      ]
     },
     "execution_count": 28,
     "metadata": {},
     "output_type": "execute_result"
    }
   ],
   "source": [
    "max_list_length(4)"
   ]
  },
  {
   "cell_type": "code",
   "execution_count": 29,
   "id": "9a0f6eef",
   "metadata": {},
   "outputs": [
    {
     "data": {
      "text/plain": [
       "2047"
      ]
     },
     "execution_count": 29,
     "metadata": {},
     "output_type": "execute_result"
    }
   ],
   "source": [
    "max_list_length(10)"
   ]
  },
  {
   "cell_type": "code",
   "execution_count": 31,
   "id": "e83bb64a",
   "metadata": {},
   "outputs": [
    {
     "data": {
      "text/plain": [
       "256"
      ]
     },
     "execution_count": 31,
     "metadata": {},
     "output_type": "execute_result"
    }
   ],
   "source": [
    "0b100000000"
   ]
  },
  {
   "cell_type": "code",
   "execution_count": 41,
   "id": "fc6333a1",
   "metadata": {},
   "outputs": [
    {
     "name": "stdout",
     "output_type": "stream",
     "text": [
      "32\t 5.0\n",
      "31\t 4.95\n",
      "30\t 4.91\n",
      "29\t 4.86\n",
      "28\t 4.81\n",
      "27\t 4.75\n",
      "26\t 4.7\n",
      "25\t 4.64\n",
      "24\t 4.58\n",
      "23\t 4.52\n",
      "22\t 4.46\n",
      "21\t 4.39\n",
      "20\t 4.32\n",
      "19\t 4.25\n",
      "18\t 4.17\n",
      "17\t 4.09\n",
      "16\t 4.0\n",
      "15\t 3.91\n",
      "14\t 3.81\n",
      "13\t 3.7\n",
      "12\t 3.58\n",
      "11\t 3.46\n",
      "10\t 3.32\n",
      " 9\t 3.17\n",
      " 8\t 3.0\n",
      " 7\t 2.81\n",
      " 6\t 2.58\n",
      " 5\t 2.32\n",
      " 4\t 2.0\n",
      " 3\t 1.58\n",
      " 2\t 1.0\n",
      " 1\t 0.0\n"
     ]
    }
   ],
   "source": [
    "import math\n",
    "for length in range(32, 0, -1):\n",
    "    print(f'{length:2}\\t {math.log(length, 2):2.3}')"
   ]
  },
  {
   "cell_type": "markdown",
   "id": "2fe2bb87",
   "metadata": {},
   "source": [
    "# Big O\n",
    "\n",
    "***"
   ]
  },
  {
   "cell_type": "code",
   "execution_count": 4,
   "id": "7ff904ee",
   "metadata": {},
   "outputs": [],
   "source": [
    "#x = np.arange(0.0,10.0,0.1)\n",
    "\n",
    "#y1 = x**2\n",
    "\n",
    "#y2 = x * np.log(x)"
   ]
  },
  {
   "cell_type": "code",
   "execution_count": 6,
   "id": "4b1bd5ee",
   "metadata": {},
   "outputs": [],
   "source": [
    "#plt.plot(x, y1, label='$n^2$')\n",
    "#plt.plot(x, y2, label='$n \\log(n)$')\n",
    "\n",
    "#plt.legend()"
   ]
  },
  {
   "cell_type": "markdown",
   "id": "133af81a",
   "metadata": {},
   "source": [
    "**DEF**\n",
    "\n",
    "$ f(n) = x^2 $ is $ O(g(n)) $ where $ g(n) = x^3$\n",
    "\n",
    "because\n",
    "\n",
    "$ 1 \\times g(n) > f(n) $ for all $n > 1$\n",
    "\n",
    "where\n",
    "\n",
    "$n_0 = 1$ in this case."
   ]
  },
  {
   "cell_type": "markdown",
   "id": "5f0bb76a",
   "metadata": {},
   "source": [
    "technically $2n^2$ is $O(n^2)$ even though"
   ]
  },
  {
   "cell_type": "code",
   "execution_count": 7,
   "id": "4af581bb",
   "metadata": {},
   "outputs": [],
   "source": [
    "#n = np.arange(0.0, 2.1, 0.01)\n",
    "\n",
    "#plt.plot(n, 2.0 * (n**2), label='$2n^2$')\n",
    "#plt.plot(x, n**2, label='$n^2$')\n",
    "\n",
    "#plt.legend()"
   ]
  },
  {
   "cell_type": "markdown",
   "id": "24adbbc8",
   "metadata": {},
   "source": [
    "$ n \\times \\log(n) $ + $n \\times \\log(n) = 2 \\log(n) $\n",
    "\n",
    "$2 n \\log(n)$ is O(n\\log(n))"
   ]
  },
  {
   "cell_type": "code",
   "execution_count": null,
   "id": "47eed1da",
   "metadata": {},
   "outputs": [],
   "source": []
  }
 ],
 "metadata": {
  "kernelspec": {
   "display_name": "Python 3 (ipykernel)",
   "language": "python",
   "name": "python3"
  },
  "language_info": {
   "codemirror_mode": {
    "name": "ipython",
    "version": 3
   },
   "file_extension": ".py",
   "mimetype": "text/x-python",
   "name": "python",
   "nbconvert_exporter": "python",
   "pygments_lexer": "ipython3",
   "version": "3.9.7"
  }
 },
 "nbformat": 4,
 "nbformat_minor": 5
}
